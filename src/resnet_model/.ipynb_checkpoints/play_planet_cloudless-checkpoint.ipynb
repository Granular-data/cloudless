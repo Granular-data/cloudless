{
 "cells": [
  {
   "cell_type": "code",
   "execution_count": 29,
   "metadata": {
    "collapsed": true
   },
   "outputs": [],
   "source": [
    "import json\n",
    "import cv2\n",
    "import csv\n",
    "import numpy as np"
   ]
  },
  {
   "cell_type": "code",
   "execution_count": 5,
   "metadata": {
    "collapsed": false
   },
   "outputs": [],
   "source": [
    "fin = open('../../../../datasets/planet_cloudless/planetlab/annotated.json','r')\n",
    "metadata = json.load(fin)"
   ]
  },
  {
   "cell_type": "code",
   "execution_count": 12,
   "metadata": {
    "collapsed": false
   },
   "outputs": [],
   "source": [
    "out_folder = '../../../../datasets/planet_cloudless/planetlab/64x64_patches/'\n",
    "in_folder = '../../../../datasets/planet_cloudless/planetlab/metadata/'"
   ]
  },
  {
   "cell_type": "code",
   "execution_count": 49,
   "metadata": {
    "collapsed": false
   },
   "outputs": [],
   "source": [
    "tot_images = []\n",
    "img_no = 0\n",
    "for annot in metadata:\n",
    "    img = cv2.imread(in_folder + annot['image_name'])\n",
    "    mask = np.zeros((img.shape[0],img.shape[1]))\n",
    "    \n",
    "    for coords in annot['image_annotation']:\n",
    "        diags = map(int,coords.split(','))\n",
    "        mask[diags[0]:diags[2],diags[1]:diags[1]+diags[3]] = 1\n",
    "        \n",
    "    for i in range(0,img.shape[0],64):\n",
    "        for j in range(0,img.shape[1],64):\n",
    "            patch = img[i:i+64,j:j+64]\n",
    "            cv2.imwrite(out_folder + str(img_no).zfill(10) + '.png',patch)\n",
    "            if np.count_nonzero(mask[i:i+64,j:j+64]) / (64*64.0) > 0.2:\n",
    "                tot_images.append([out_folder + str(img_no).zfill(10) + '.png',1])\n",
    "            else:\n",
    "                tot_images.append([out_folder + str(img_no).zfill(10) + '.png',0])\n",
    "            img_no += 1"
   ]
  },
  {
   "cell_type": "code",
   "execution_count": 52,
   "metadata": {
    "collapsed": false
   },
   "outputs": [],
   "source": [
    "cloudy = []\n",
    "cloudless = []\n",
    "for image in tot_images:\n",
    "    if image[1] == 1:\n",
    "        cloudy.append(image)\n",
    "    else:\n",
    "        cloudless.append(image)"
   ]
  },
  {
   "cell_type": "code",
   "execution_count": 54,
   "metadata": {
    "collapsed": false
   },
   "outputs": [],
   "source": [
    "from random import shuffle"
   ]
  },
  {
   "cell_type": "code",
   "execution_count": 56,
   "metadata": {
    "collapsed": false
   },
   "outputs": [],
   "source": [
    "shuffle(cloudy)\n",
    "shuffle(cloudless)"
   ]
  },
  {
   "cell_type": "code",
   "execution_count": 57,
   "metadata": {
    "collapsed": false
   },
   "outputs": [
    {
     "name": "stdout",
     "output_type": "stream",
     "text": [
      "62110 187234\n"
     ]
    }
   ],
   "source": [
    "print len(cloudy), len(cloudless)"
   ]
  },
  {
   "cell_type": "code",
   "execution_count": null,
   "metadata": {
    "collapsed": false
   },
   "outputs": [],
   "source": [
    "train_images = cloudy[0:62110*0.7] + cloudless[0:187234*0.7]\n",
    "test_images = cloud[62110*0.7:] + cloudless[187234*0.7:]"
   ]
  },
  {
   "cell_type": "code",
   "execution_count": null,
   "metadata": {
    "collapsed": true
   },
   "outputs": [],
   "source": []
  }
 ],
 "metadata": {
  "kernelspec": {
   "display_name": "Python 2",
   "language": "python",
   "name": "python2"
  },
  "language_info": {
   "codemirror_mode": {
    "name": "ipython",
    "version": 2
   },
   "file_extension": ".py",
   "mimetype": "text/x-python",
   "name": "python",
   "nbconvert_exporter": "python",
   "pygments_lexer": "ipython2",
   "version": "2.7.6"
  }
 },
 "nbformat": 4,
 "nbformat_minor": 2
}
