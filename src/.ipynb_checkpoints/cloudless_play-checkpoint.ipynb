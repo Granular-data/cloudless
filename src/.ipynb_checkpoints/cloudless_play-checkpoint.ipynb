{
 "cells": [
  {
   "cell_type": "code",
   "execution_count": 1,
   "metadata": {
    "collapsed": true
   },
   "outputs": [],
   "source": [
    "import re"
   ]
  },
  {
   "cell_type": "code",
   "execution_count": 17,
   "metadata": {
    "collapsed": true
   },
   "outputs": [],
   "source": [
    "fin = open('../../../datasets/planet_cloudless/rapideye_metadata.lst','r')"
   ]
  },
  {
   "cell_type": "code",
   "execution_count": 16,
   "metadata": {
    "collapsed": false
   },
   "outputs": [
    {
     "name": "stdout",
     "output_type": "stream",
     "text": [
      "[]\n",
      "['https://www.dropbox.com/sh/boosyg7ccnlij57/AAA7U5G16KbB_NBMZTjcjOgpa/planetlab/metadata/20131015_200424_1056516_RapidEye-5-0-0.png?']\n",
      "['https://www.dropbox.com/sh/boosyg7ccnlij57/AAC0obvsT1Rqbx676pnEzhHXa/planetlab/metadata/20131015_200424_1056516_RapidEye-5-0-512.png?']\n",
      "['https://www.dropbox.com/sh/boosyg7ccnlij57/AADwaCY-JmSL2XaKF0FQNejia/planetlab/metadata/20131015_200424_1056516_RapidEye-5-0-1024.png?']\n",
      "['https://www.dropbox.com/sh/boosyg7ccnlij57/AABxHoaYAc9GGPCrbf5IfFKOa/planetlab/metadata/20131015_200424_1056516_RapidEye-5-0-1536.png?']\n",
      "['https://www.dropbox.com/sh/boosyg7ccnlij57/AABrzT4EFcrLBCNCrOw0sBjqa/planetlab/metadata/20131015_200424_1056516_RapidEye-5-0-2048.png?']\n",
      "['https://www.dropbox.com/sh/boosyg7ccnlij57/AACCOCjQiVhnKke_w_5L4HGLa/planetlab/metadata/20131015_200424_1056516_RapidEye-5-0-2560.png?']\n",
      "['https://www.dropbox.com/sh/boosyg7ccnlij57/AAD_LwCUy8Ncrd3n1Hux76sGa/planetlab/metadata/20131015_200424_1056516_RapidEye-5-0-3072.png?']\n",
      "['https://www.dropbox.com/sh/boosyg7ccnlij57/AACkdOQn4vw8h8W9GmmHh8jKa/planetlab/metadata/20131015_200424_1056516_RapidEye-5-0-3584.png?']\n",
      "['https://www.dropbox.com/sh/boosyg7ccnlij57/AACFWsoTSEZlBOfDpSP4Qkq8a/planetlab/metadata/20131015_200424_1056516_RapidEye-5-0-4096.png?']\n",
      "['https://www.dropbox.com/sh/boosyg7ccnlij57/AABUv66KgzIrgGaN5sUU4c2ma/planetlab/metadata/20131015_200424_1056516_RapidEye-5-512-0.png?']\n"
     ]
    }
   ],
   "source": [
    "metadata_urls = []\n",
    "\n",
    "for line in fin.readlines():\n",
    "    m = re.findall ( '\"href\": \"(.*?)dl=0\", \"file_id\"', line, re.DOTALL)\n",
    "    if len(m) > 0:\n",
    "        metadata_urls.append(m[0] + 'dl=1')\n"
   ]
  },
  {
   "cell_type": "code",
   "execution_count": null,
   "metadata": {
    "collapsed": true
   },
   "outputs": [],
   "source": []
  }
 ],
 "metadata": {
  "kernelspec": {
   "display_name": "Python 2",
   "language": "python",
   "name": "python2"
  },
  "language_info": {
   "codemirror_mode": {
    "name": "ipython",
    "version": 2
   },
   "file_extension": ".py",
   "mimetype": "text/x-python",
   "name": "python",
   "nbconvert_exporter": "python",
   "pygments_lexer": "ipython2",
   "version": "2.7.6"
  }
 },
 "nbformat": 4,
 "nbformat_minor": 2
}
